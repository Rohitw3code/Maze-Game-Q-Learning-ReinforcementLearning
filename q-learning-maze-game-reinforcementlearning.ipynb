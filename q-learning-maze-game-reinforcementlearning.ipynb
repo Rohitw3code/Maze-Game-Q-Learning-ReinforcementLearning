{
 "cells": [
  {
   "cell_type": "code",
   "execution_count": 1,
   "metadata": {
    "_cell_guid": "b1076dfc-b9ad-4769-8c92-a6c4dae69d19",
    "_uuid": "8f2839f25d086af736a60e9eeb907d3b93b6e0e5",
    "execution": {
     "iopub.execute_input": "2024-03-16T04:28:27.904859Z",
     "iopub.status.busy": "2024-03-16T04:28:27.904166Z",
     "iopub.status.idle": "2024-03-16T04:28:28.998418Z",
     "shell.execute_reply": "2024-03-16T04:28:28.997113Z",
     "shell.execute_reply.started": "2024-03-16T04:28:27.904785Z"
    }
   },
   "outputs": [],
   "source": [
    "# This Python 3 environment comes with many helpful analytics libraries installed\n",
    "# It is defined by the kaggle/python Docker image: https://github.com/kaggle/docker-python\n",
    "# For example, here's several helpful packages to load\n",
    "\n",
    "import numpy as np # linear algebra\n",
    "import pandas as pd # data processing, CSV file I/O (e.g. pd.read_csv)\n",
    "\n",
    "# Input data files are available in the read-only \"../input/\" directory\n",
    "# For example, running this (by clicking run or pressing Shift+Enter) will list all files under the input directory\n",
    "\n",
    "import os\n",
    "for dirname, _, filenames in os.walk('/kaggle/input'):\n",
    "    for filename in filenames:\n",
    "        print(os.path.join(dirname, filename))\n",
    "\n",
    "# You can write up to 20GB to the current directory (/kaggle/working/) that gets preserved as output when you create a version using \"Save & Run All\" \n",
    "# You can also write temporary files to /kaggle/temp/, but they won't be saved outside of the current session"
   ]
  },
  {
   "cell_type": "code",
   "execution_count": 3,
   "metadata": {
    "execution": {
     "iopub.execute_input": "2024-03-16T04:28:29.001491Z",
     "iopub.status.busy": "2024-03-16T04:28:29.001030Z",
     "iopub.status.idle": "2024-03-16T04:28:29.012946Z",
     "shell.execute_reply": "2024-03-16T04:28:29.011703Z",
     "shell.execute_reply.started": "2024-03-16T04:28:29.001460Z"
    }
   },
   "outputs": [],
   "source": [
    "import pandas as pd\n",
    "import numpy as np\n",
    "import random as rd\n",
    "from tqdm import tqdm"
   ]
  },
  {
   "cell_type": "code",
   "execution_count": 3,
   "metadata": {
    "execution": {
     "iopub.execute_input": "2024-03-16T04:28:29.015014Z",
     "iopub.status.busy": "2024-03-16T04:28:29.014529Z",
     "iopub.status.idle": "2024-03-16T04:28:29.020560Z",
     "shell.execute_reply": "2024-03-16T04:28:29.019384Z",
     "shell.execute_reply.started": "2024-03-16T04:28:29.014982Z"
    }
   },
   "outputs": [],
   "source": [
    "action_map = {0:'left',\n",
    "          1:'down',\n",
    "          2:'right',\n",
    "          3:'up'}"
   ]
  },
  {
   "cell_type": "markdown",
   "metadata": {},
   "source": [
    "# Maze Environment\n",
    "\n",
    "I have created my own maze environment. The role of this environment is to simulate the action given to the environment and display it."
   ]
  },
  {
   "cell_type": "code",
   "execution_count": 4,
   "metadata": {
    "execution": {
     "iopub.execute_input": "2024-03-14T05:21:49.986912Z",
     "iopub.status.busy": "2024-03-14T05:21:49.985646Z",
     "iopub.status.idle": "2024-03-14T05:21:49.999730Z",
     "shell.execute_reply": "2024-03-14T05:21:49.998600Z",
     "shell.execute_reply.started": "2024-03-14T05:21:49.986854Z"
    }
   },
   "outputs": [],
   "source": [
    "class Env:\n",
    "    def __init__(self):\n",
    "        self.env = np.array([[0,0,0,0],\n",
    "                            [0,-1,0,-1],\n",
    "                            [0,0,0,-1],\n",
    "                            [-1,0,0,2]])\n",
    "\n",
    "        self.win_reward = 1\n",
    "        self.loss_reward = -1\n",
    "\n",
    "        self.current_state = (0,0)\n",
    "        self.shape = self.env.shape\n",
    "        self.done = False\n",
    "        self.reward = 0\n",
    "\n",
    "    def terminate_state(self):\n",
    "        row,col = self.current_state\n",
    "        if self.env[row][col] == 2:\n",
    "            self.done = True\n",
    "            self.reward = self.win_reward\n",
    "\n",
    "        elif self.env[row][col] == -1:\n",
    "            self.done = True\n",
    "            self.reward = self.loss_reward\n",
    "\n",
    "        else:\n",
    "            self.done = False\n",
    "            self.reward = 0\n",
    "\n",
    "    def step(self,action):\n",
    "        row,col = self.current_state\n",
    "        if action == 2:\n",
    "            if col+1 < self.shape[1]:\n",
    "                self.current_state = (row,col+1)\n",
    "        if action == 0:\n",
    "            if col-1 >= 0:\n",
    "                self.current_state = (row,col-1)\n",
    "        if action == 1:\n",
    "            if row-1 >= 0:\n",
    "                self.current_state = (row-1,col)\n",
    "        if action == 3:\n",
    "            if row+1 < self.shape[0]:\n",
    "                self.current_state = (row+1,col)\n",
    "\n",
    "        self.terminate_state()\n",
    "        return self.current_state , self.done , self.reward\n",
    "\n",
    "\n",
    "    def render(self):\n",
    "        row,col = self.env.shape\n",
    "        env_rend = ''\n",
    "        for i in range(row):\n",
    "            for j in range(col):\n",
    "                state = self.env[i][j]\n",
    "                if self.current_state == (i,j):\n",
    "                    env_rend += 'S'\n",
    "                elif state == 0:\n",
    "                    env_rend += 'F'\n",
    "                elif state == -1:\n",
    "                    env_rend += 'H'\n",
    "                else:\n",
    "                    env_rend += 'G'\n",
    "            env_rend += '\\n'\n",
    "        print(env_rend)"
   ]
  },
  {
   "cell_type": "code",
   "execution_count": 5,
   "metadata": {
    "execution": {
     "iopub.execute_input": "2024-03-14T05:21:50.024990Z",
     "iopub.status.busy": "2024-03-14T05:21:50.024427Z",
     "iopub.status.idle": "2024-03-14T05:21:50.030767Z",
     "shell.execute_reply": "2024-03-14T05:21:50.029838Z",
     "shell.execute_reply.started": "2024-03-14T05:21:50.024942Z"
    }
   },
   "outputs": [
    {
     "name": "stdout",
     "output_type": "stream",
     "text": [
      "observation : (0, 1) done : False reward : 0\n",
      "FSFF\n",
      "FHFH\n",
      "FFFH\n",
      "HFFG\n",
      "\n"
     ]
    }
   ],
   "source": [
    "env = Env()\n",
    "obs,done,reward = env.step(2)\n",
    "print(f'observation : {obs} done : {done} reward : {reward}')\n",
    "\n",
    "# we can print the environment if we want to look at it\n",
    "# with a current state S\n",
    "env.render()"
   ]
  },
  {
   "cell_type": "code",
   "execution_count": 6,
   "metadata": {
    "execution": {
     "iopub.execute_input": "2024-03-14T05:21:50.048135Z",
     "iopub.status.busy": "2024-03-14T05:21:50.047786Z",
     "iopub.status.idle": "2024-03-14T05:21:50.053710Z",
     "shell.execute_reply": "2024-03-14T05:21:50.052563Z",
     "shell.execute_reply.started": "2024-03-14T05:21:50.048109Z"
    }
   },
   "outputs": [
    {
     "name": "stdout",
     "output_type": "stream",
     "text": [
      "observation : (1, 1) done : True reward : -1\n",
      "FFFF\n",
      "FSFH\n",
      "FFFH\n",
      "HFFG\n",
      "\n"
     ]
    }
   ],
   "source": [
    "obs,done,reward = env.step(3)\n",
    "print(f'observation : {obs} done : {done} reward : {reward}')\n",
    "\n",
    "# we can print the environment if we want to look at it\n",
    "# with a current state S\n",
    "env.render()"
   ]
  },
  {
   "cell_type": "code",
   "execution_count": 7,
   "metadata": {
    "execution": {
     "iopub.execute_input": "2024-03-14T05:21:50.089135Z",
     "iopub.status.busy": "2024-03-14T05:21:50.088764Z",
     "iopub.status.idle": "2024-03-14T05:21:50.093238Z",
     "shell.execute_reply": "2024-03-14T05:21:50.092448Z",
     "shell.execute_reply.started": "2024-03-14T05:21:50.089110Z"
    }
   },
   "outputs": [
    {
     "name": "stdout",
     "output_type": "stream",
     "text": [
      "SFFF\n",
      "FHFH\n",
      "FFFH\n",
      "HFFG\n",
      "\n"
     ]
    }
   ],
   "source": [
    "env = Env()\n",
    "env.render()"
   ]
  },
  {
   "cell_type": "markdown",
   "metadata": {},
   "source": [
    "I have labeled each 1-D array to 2D array indexs"
   ]
  },
  {
   "cell_type": "code",
   "execution_count": 8,
   "metadata": {
    "execution": {
     "iopub.execute_input": "2024-03-14T05:21:50.153402Z",
     "iopub.status.busy": "2024-03-14T05:21:50.153063Z",
     "iopub.status.idle": "2024-03-14T05:21:50.160125Z",
     "shell.execute_reply": "2024-03-14T05:21:50.158958Z",
     "shell.execute_reply.started": "2024-03-14T05:21:50.153373Z"
    }
   },
   "outputs": [],
   "source": [
    "numcod = {\n",
    "    0: (0, 0),    1: (0, 1),    2: (0, 2),    3: (0, 3),    4: (1, 0),\n",
    "    5: (1, 1),   6: (1, 2),    7: (1, 3),    8: (2, 0),    9: (2, 1),\n",
    "    10: (2, 2),    11: (2, 3),    12: (3, 0),    13: (3, 1),    14: (3, 2),\n",
    "    15: (3, 3),\n",
    "}"
   ]
  },
  {
   "cell_type": "markdown",
   "metadata": {},
   "source": [
    "# Reward and Loss\n",
    "\n",
    "The function below sets the reward and loss value for any transition from one state to another:"
   ]
  },
  {
   "cell_type": "code",
   "execution_count": 9,
   "metadata": {
    "execution": {
     "iopub.execute_input": "2024-03-14T05:21:50.189882Z",
     "iopub.status.busy": "2024-03-14T05:21:50.189539Z",
     "iopub.status.idle": "2024-03-14T05:21:50.195901Z",
     "shell.execute_reply": "2024-03-14T05:21:50.194158Z",
     "shell.execute_reply.started": "2024-03-14T05:21:50.189854Z"
    }
   },
   "outputs": [],
   "source": [
    "def setlossRmatrix(loss,rmatrix):\n",
    "    for i in loss:\n",
    "        rmatrix[i[0]][i[1]] = -10\n",
    "    return rmatrix\n",
    "\n",
    "def setwinRmatrix(win,rmatrix):\n",
    "    for i in win:\n",
    "        rmatrix[i[0]][i[1]] = 10\n",
    "    return rmatrix"
   ]
  },
  {
   "cell_type": "markdown",
   "metadata": {},
   "source": [
    "# Reward and Q matrix\n",
    "create a 16x16 Reward and Q matrix  , the loss and win contain the index transition "
   ]
  },
  {
   "cell_type": "code",
   "execution_count": 11,
   "metadata": {
    "execution": {
     "iopub.execute_input": "2024-03-14T05:21:50.260099Z",
     "iopub.status.busy": "2024-03-14T05:21:50.259719Z",
     "iopub.status.idle": "2024-03-14T05:21:50.266329Z",
     "shell.execute_reply": "2024-03-14T05:21:50.265032Z",
     "shell.execute_reply.started": "2024-03-14T05:21:50.260069Z"
    }
   },
   "outputs": [],
   "source": [
    "qmatrix = np.zeros((16,16))\n",
    "rmatrix = np.zeros((16,16))\n",
    "\n",
    "loss = [(1,5),(4,5),(6,5),(9,5),(6,7),(3,7),(11,7),(8,12),(13,12)]\n",
    "win = [(14,15),(11,15)]\n",
    "\n",
    "rmatrix = setlossRmatrix(loss,rmatrix)\n",
    "rmatrix = setwinRmatrix(win,rmatrix)"
   ]
  },
  {
   "cell_type": "markdown",
   "metadata": {},
   "source": [
    "# Reward Matrix value"
   ]
  },
  {
   "cell_type": "code",
   "execution_count": 12,
   "metadata": {
    "execution": {
     "iopub.execute_input": "2024-03-14T05:21:50.292287Z",
     "iopub.status.busy": "2024-03-14T05:21:50.291677Z",
     "iopub.status.idle": "2024-03-14T05:21:50.302491Z",
     "shell.execute_reply": "2024-03-14T05:21:50.301291Z",
     "shell.execute_reply.started": "2024-03-14T05:21:50.292258Z"
    }
   },
   "outputs": [
    {
     "data": {
      "text/plain": [
       "array([[  0.,   0.,   0.,   0.,   0.,   0.,   0.,   0.,   0.,   0.,   0.,\n",
       "          0.,   0.,   0.,   0.,   0.],\n",
       "       [  0.,   0.,   0.,   0.,   0., -10.,   0.,   0.,   0.,   0.,   0.,\n",
       "          0.,   0.,   0.,   0.,   0.],\n",
       "       [  0.,   0.,   0.,   0.,   0.,   0.,   0.,   0.,   0.,   0.,   0.,\n",
       "          0.,   0.,   0.,   0.,   0.],\n",
       "       [  0.,   0.,   0.,   0.,   0.,   0.,   0., -10.,   0.,   0.,   0.,\n",
       "          0.,   0.,   0.,   0.,   0.],\n",
       "       [  0.,   0.,   0.,   0.,   0., -10.,   0.,   0.,   0.,   0.,   0.,\n",
       "          0.,   0.,   0.,   0.,   0.],\n",
       "       [  0.,   0.,   0.,   0.,   0.,   0.,   0.,   0.,   0.,   0.,   0.,\n",
       "          0.,   0.,   0.,   0.,   0.],\n",
       "       [  0.,   0.,   0.,   0.,   0., -10.,   0., -10.,   0.,   0.,   0.,\n",
       "          0.,   0.,   0.,   0.,   0.],\n",
       "       [  0.,   0.,   0.,   0.,   0.,   0.,   0.,   0.,   0.,   0.,   0.,\n",
       "          0.,   0.,   0.,   0.,   0.],\n",
       "       [  0.,   0.,   0.,   0.,   0.,   0.,   0.,   0.,   0.,   0.,   0.,\n",
       "          0., -10.,   0.,   0.,   0.],\n",
       "       [  0.,   0.,   0.,   0.,   0., -10.,   0.,   0.,   0.,   0.,   0.,\n",
       "          0.,   0.,   0.,   0.,   0.],\n",
       "       [  0.,   0.,   0.,   0.,   0.,   0.,   0.,   0.,   0.,   0.,   0.,\n",
       "          0.,   0.,   0.,   0.,   0.],\n",
       "       [  0.,   0.,   0.,   0.,   0.,   0.,   0., -10.,   0.,   0.,   0.,\n",
       "          0.,   0.,   0.,   0.,  10.],\n",
       "       [  0.,   0.,   0.,   0.,   0.,   0.,   0.,   0.,   0.,   0.,   0.,\n",
       "          0.,   0.,   0.,   0.,   0.],\n",
       "       [  0.,   0.,   0.,   0.,   0.,   0.,   0.,   0.,   0.,   0.,   0.,\n",
       "          0., -10.,   0.,   0.,   0.],\n",
       "       [  0.,   0.,   0.,   0.,   0.,   0.,   0.,   0.,   0.,   0.,   0.,\n",
       "          0.,   0.,   0.,   0.,  10.],\n",
       "       [  0.,   0.,   0.,   0.,   0.,   0.,   0.,   0.,   0.,   0.,   0.,\n",
       "          0.,   0.,   0.,   0.,   0.]])"
      ]
     },
     "execution_count": 12,
     "metadata": {},
     "output_type": "execute_result"
    }
   ],
   "source": [
    "rmatrix"
   ]
  },
  {
   "cell_type": "markdown",
   "metadata": {},
   "source": [
    "# Possible Action\n",
    "\n",
    "This function contains a possible action at any given index in the maze. This value changes when the maze is altered."
   ]
  },
  {
   "cell_type": "code",
   "execution_count": 13,
   "metadata": {
    "execution": {
     "iopub.execute_input": "2024-03-14T05:21:50.322594Z",
     "iopub.status.busy": "2024-03-14T05:21:50.322130Z",
     "iopub.status.idle": "2024-03-14T05:21:50.327828Z",
     "shell.execute_reply": "2024-03-14T05:21:50.326605Z",
     "shell.execute_reply.started": "2024-03-14T05:21:50.322572Z"
    }
   },
   "outputs": [],
   "source": [
    "posact = {\n",
    "    0:[2,3],1:[0,2,3],2:[0,2,3],3:[0,3],\n",
    "    4:[1,2,3],5:[0,1,2,3],6:[0,1,2,3],7:[0,1,3],\n",
    "    8:[1,2,3],9:[0,1,2,3],10:[0,1,2,3],11:[0,1,3],\n",
    "    12:[1,2],13:[0,1,2],14:[0,1,2],15:[0,1]\n",
    "}"
   ]
  },
  {
   "cell_type": "markdown",
   "metadata": {},
   "source": [
    "# "
   ]
  },
  {
   "cell_type": "code",
   "execution_count": 14,
   "metadata": {
    "execution": {
     "iopub.execute_input": "2024-03-14T05:21:50.355017Z",
     "iopub.status.busy": "2024-03-14T05:21:50.354174Z",
     "iopub.status.idle": "2024-03-14T05:21:50.835530Z",
     "shell.execute_reply": "2024-03-14T05:21:50.833886Z",
     "shell.execute_reply.started": "2024-03-14T05:21:50.354955Z"
    }
   },
   "outputs": [
    {
     "name": "stderr",
     "output_type": "stream",
     "text": [
      "100%|██████████| 10000/10000 [00:00<00:00, 21474.64it/s]\n"
     ]
    }
   ],
   "source": [
    "y = 0.9\n",
    "done = False\n",
    "count = 0\n",
    "for i in tqdm(range(1000)):\n",
    "    state1 = 0\n",
    "    done = False\n",
    "    env = Env()\n",
    "    while done != True:\n",
    "        ran = rd.random()\n",
    "        action = rd.choice(posact[state1])        \n",
    "        obs,done,reward = env.step(action)\n",
    "        state2 = (obs[0]*4)+obs[1]\n",
    "        qmatrix[state1][state2] = rmatrix[state1][state2] + y * max([qmatrix[state2][a] for a in list(range(16))])  \n",
    "        state1 = state2        "
   ]
  },
  {
   "cell_type": "code",
   "execution_count": 15,
   "metadata": {
    "execution": {
     "iopub.execute_input": "2024-03-14T05:21:50.838165Z",
     "iopub.status.busy": "2024-03-14T05:21:50.837785Z",
     "iopub.status.idle": "2024-03-14T05:21:50.846386Z",
     "shell.execute_reply": "2024-03-14T05:21:50.845380Z",
     "shell.execute_reply.started": "2024-03-14T05:21:50.838137Z"
    }
   },
   "outputs": [
    {
     "data": {
      "text/plain": [
       "array([[  0.     ,   5.9049 ,   0.     ,   0.     ,   5.9049 ,   0.     ,\n",
       "          0.     ,   0.     ,   0.     ,   0.     ,   0.     ,   0.     ,\n",
       "          0.     ,   0.     ,   0.     ,   0.     ],\n",
       "       [  5.31441,   0.     ,   6.561  ,   0.     ,   0.     , -10.     ,\n",
       "          0.     ,   0.     ,   0.     ,   0.     ,   0.     ,   0.     ,\n",
       "          0.     ,   0.     ,   0.     ,   0.     ],\n",
       "       [  0.     ,   5.9049 ,   0.     ,   5.9049 ,   0.     ,   0.     ,\n",
       "          7.29   ,   0.     ,   0.     ,   0.     ,   0.     ,   0.     ,\n",
       "          0.     ,   0.     ,   0.     ,   0.     ],\n",
       "       [  0.     ,   0.     ,   6.561  ,   0.     ,   0.     ,   0.     ,\n",
       "          0.     , -10.     ,   0.     ,   0.     ,   0.     ,   0.     ,\n",
       "          0.     ,   0.     ,   0.     ,   0.     ],\n",
       "       [  5.31441,   0.     ,   0.     ,   0.     ,   0.     , -10.     ,\n",
       "          0.     ,   0.     ,   6.561  ,   0.     ,   0.     ,   0.     ,\n",
       "          0.     ,   0.     ,   0.     ,   0.     ],\n",
       "       [  0.     ,   0.     ,   0.     ,   0.     ,   0.     ,   0.     ,\n",
       "          0.     ,   0.     ,   0.     ,   0.     ,   0.     ,   0.     ,\n",
       "          0.     ,   0.     ,   0.     ,   0.     ],\n",
       "       [  0.     ,   0.     ,   6.561  ,   0.     ,   0.     , -10.     ,\n",
       "          0.     , -10.     ,   0.     ,   0.     ,   8.1    ,   0.     ,\n",
       "          0.     ,   0.     ,   0.     ,   0.     ],\n",
       "       [  0.     ,   0.     ,   0.     ,   0.     ,   0.     ,   0.     ,\n",
       "          0.     ,   0.     ,   0.     ,   0.     ,   0.     ,   0.     ,\n",
       "          0.     ,   0.     ,   0.     ,   0.     ],\n",
       "       [  0.     ,   0.     ,   0.     ,   0.     ,   5.9049 ,   0.     ,\n",
       "          0.     ,   0.     ,   0.     ,   7.29   ,   0.     ,   0.     ,\n",
       "        -10.     ,   0.     ,   0.     ,   0.     ],\n",
       "       [  0.     ,   0.     ,   0.     ,   0.     ,   0.     , -10.     ,\n",
       "          0.     ,   0.     ,   6.561  ,   0.     ,   8.1    ,   0.     ,\n",
       "          0.     ,   8.1    ,   0.     ,   0.     ],\n",
       "       [  0.     ,   0.     ,   0.     ,   0.     ,   0.     ,   0.     ,\n",
       "          7.29   ,   0.     ,   0.     ,   7.29   ,   0.     ,   0.     ,\n",
       "          0.     ,   0.     ,   9.     ,   0.     ],\n",
       "       [  0.     ,   0.     ,   0.     ,   0.     ,   0.     ,   0.     ,\n",
       "          0.     ,   0.     ,   0.     ,   0.     ,   0.     ,   0.     ,\n",
       "          0.     ,   0.     ,   0.     ,   0.     ],\n",
       "       [  0.     ,   0.     ,   0.     ,   0.     ,   0.     ,   0.     ,\n",
       "          0.     ,   0.     ,   0.     ,   0.     ,   0.     ,   0.     ,\n",
       "          0.     ,   0.     ,   0.     ,   0.     ],\n",
       "       [  0.     ,   0.     ,   0.     ,   0.     ,   0.     ,   0.     ,\n",
       "          0.     ,   0.     ,   0.     ,   7.29   ,   0.     ,   0.     ,\n",
       "        -10.     ,   0.     ,   9.     ,   0.     ],\n",
       "       [  0.     ,   0.     ,   0.     ,   0.     ,   0.     ,   0.     ,\n",
       "          0.     ,   0.     ,   0.     ,   0.     ,   8.1    ,   0.     ,\n",
       "          0.     ,   8.1    ,   0.     ,  10.     ],\n",
       "       [  0.     ,   0.     ,   0.     ,   0.     ,   0.     ,   0.     ,\n",
       "          0.     ,   0.     ,   0.     ,   0.     ,   0.     ,   0.     ,\n",
       "          0.     ,   0.     ,   0.     ,   0.     ]])"
      ]
     },
     "execution_count": 15,
     "metadata": {},
     "output_type": "execute_result"
    }
   ],
   "source": [
    "qmatrix"
   ]
  },
  {
   "cell_type": "code",
   "execution_count": 16,
   "metadata": {
    "execution": {
     "iopub.execute_input": "2024-03-14T05:21:50.848521Z",
     "iopub.status.busy": "2024-03-14T05:21:50.848025Z",
     "iopub.status.idle": "2024-03-14T05:21:50.858709Z",
     "shell.execute_reply": "2024-03-14T05:21:50.857416Z",
     "shell.execute_reply.started": "2024-03-14T05:21:50.848490Z"
    }
   },
   "outputs": [],
   "source": [
    "def bestAction(state1):\n",
    "    env = Env()\n",
    "    env.current_state = numcod[state1]\n",
    "    rew = []\n",
    "    for ac in posact[state1]:\n",
    "        obs,done,reward = env.step(ac)\n",
    "        state2 = (obs[0]*4)+obs[1]\n",
    "        rew.append(qmatrix[state1][state2])\n",
    "        env.current_state = numcod[state1]\n",
    "    action = posact[state1][np.argmax(rew)]\n",
    "    return action"
   ]
  },
  {
   "cell_type": "code",
   "execution_count": 22,
   "metadata": {
    "execution": {
     "iopub.execute_input": "2024-03-14T05:42:46.165636Z",
     "iopub.status.busy": "2024-03-14T05:42:46.164394Z",
     "iopub.status.idle": "2024-03-14T05:42:46.173774Z",
     "shell.execute_reply": "2024-03-14T05:42:46.172422Z",
     "shell.execute_reply.started": "2024-03-14T05:42:46.165592Z"
    }
   },
   "outputs": [
    {
     "name": "stdout",
     "output_type": "stream",
     "text": [
      "FSFF\n",
      "FHFH\n",
      "FFFH\n",
      "HFFG\n",
      "\n",
      "FFSF\n",
      "FHFH\n",
      "FFFH\n",
      "HFFG\n",
      "\n",
      "FFFF\n",
      "FHSH\n",
      "FFFH\n",
      "HFFG\n",
      "\n",
      "FFFF\n",
      "FHFH\n",
      "FFSH\n",
      "HFFG\n",
      "\n",
      "FFFF\n",
      "FHFH\n",
      "FFFH\n",
      "HFSG\n",
      "\n",
      "FFFF\n",
      "FHFH\n",
      "FFFH\n",
      "HFFS\n",
      "\n"
     ]
    }
   ],
   "source": [
    "#play\n",
    "state1 = \n",
    "done = False\n",
    "env = Env()\n",
    "count = 0\n",
    "env.current_state = (0,1)\n",
    "env.render()\n",
    "while done != True:\n",
    "    ran = rd.random()\n",
    "    action = bestAction(state1)\n",
    "    obs,done,reward = env.step(action)\n",
    "    state2 = (obs[0]*4)+obs[1]\n",
    "    qmatrix[state1][state2] = rmatrix[state1][state2] + y * max([qmatrix[state2][a] for a in list(range(16))])  \n",
    "    state1 = state2\n",
    "    env.render()\n",
    "    count += 1\n",
    "    if count>50:\n",
    "        break\n"
   ]
  },
  {
   "cell_type": "code",
   "execution_count": 8,
   "metadata": {},
   "outputs": [],
   "source": [
    "class Env:\n",
    "    def __init__(self):\n",
    "        self.env = np.array([[0,0,0,0],\n",
    "                            [0,-1,0,-1],\n",
    "                            [0,0,0,-1],\n",
    "                            [-1,0,0,2]])\n",
    "        self.current_state = (0,0)\n",
    "        self.shape = self.env.shape\n",
    "        self.done = False\n",
    "        self.reward = 0\n",
    "\n",
    "    def terminate_state(self):\n",
    "        row,col = self.current_state\n",
    "        if self.env[row][col] == 2:\n",
    "            self.done = True\n",
    "            self.reward = 10\n",
    "        elif self.env[row][col] == -1:\n",
    "            self.done = True\n",
    "            self.reward = -10\n",
    "        else:\n",
    "            self.done = False\n",
    "            self.reward = 0\n",
    "    def reset(self):\n",
    "        self.env = np.array([[0,0,0,0],\n",
    "                            [0,-1,0,-1],\n",
    "                            [0,0,0,-1],\n",
    "                            [-1,0,0,2]])\n",
    "        self.current_state = (0,0)\n",
    "        self.shape = self.env.shape\n",
    "        self.done = False\n",
    "        self.reward = 0\n",
    "        \n",
    "\n",
    "    def step(self,action):\n",
    "        row,col = self.current_state\n",
    "        if action == 2:\n",
    "            if col+1 < self.shape[1]:\n",
    "                self.current_state = (row,col+1)\n",
    "        if action == 0:\n",
    "            if col-1 >= 0:\n",
    "                self.current_state = (row,col-1)\n",
    "        if action == 1:\n",
    "            if row-1 >= 0:\n",
    "                self.current_state = (row-1,col)\n",
    "        if action == 3:\n",
    "            if row+1 < self.shape[0]:\n",
    "                self.current_state = (row+1,col)\n",
    "\n",
    "        self.terminate_state()\n",
    "        return self.current_state , self.done , self.reward\n",
    "\n",
    "\n",
    "    def render(self):\n",
    "        row,col = self.env.shape\n",
    "        env_rend = ''\n",
    "        for i in range(row):\n",
    "            for j in range(col):\n",
    "                state = self.env[i][j]\n",
    "                if self.current_state == (i,j):\n",
    "                    env_rend += 'S'\n",
    "                elif state == 0:\n",
    "                    env_rend += 'F'\n",
    "                elif state == -1:\n",
    "                    env_rend += 'H'\n",
    "                else:\n",
    "                    env_rend += 'G'\n",
    "            env_rend += '\\n'\n",
    "        print(env_rend)"
   ]
  },
  {
   "cell_type": "code",
   "execution_count": 13,
   "metadata": {},
   "outputs": [
    {
     "name": "stdout",
     "output_type": "stream",
     "text": [
      "FSFF\n",
      "FHFH\n",
      "FFFH\n",
      "HFFG\n",
      "\n"
     ]
    }
   ],
   "source": [
    "maze = Env()\n",
    "maze.step(2)\n",
    "maze.render()"
   ]
  },
  {
   "cell_type": "code",
   "execution_count": 14,
   "metadata": {},
   "outputs": [
    {
     "name": "stdout",
     "output_type": "stream",
     "text": [
      "FFFF\n",
      "FSFH\n",
      "FFFH\n",
      "HFFG\n",
      "\n"
     ]
    }
   ],
   "source": [
    "maze.step(3)\n",
    "maze.render()"
   ]
  },
  {
   "cell_type": "code",
   "execution_count": 15,
   "metadata": {},
   "outputs": [
    {
     "name": "stdout",
     "output_type": "stream",
     "text": [
      "FFFF\n",
      "FHSH\n",
      "FFFH\n",
      "HFFG\n",
      "\n"
     ]
    }
   ],
   "source": [
    "maze.step(2)\n",
    "maze.render()"
   ]
  },
  {
   "cell_type": "code",
   "execution_count": 11,
   "metadata": {},
   "outputs": [
    {
     "name": "stdout",
     "output_type": "stream",
     "text": [
      "SFFF\n",
      "FHFH\n",
      "FFFH\n",
      "HFFG\n",
      "\n"
     ]
    }
   ],
   "source": [
    "maze.reset()\n",
    "maze.render()"
   ]
  },
  {
   "cell_type": "code",
   "execution_count": 12,
   "metadata": {},
   "outputs": [
    {
     "data": {
      "text/plain": [
       "((0, 1), False, 0)"
      ]
     },
     "execution_count": 12,
     "metadata": {},
     "output_type": "execute_result"
    }
   ],
   "source": [
    "maze.step(2)"
   ]
  },
  {
   "cell_type": "code",
   "execution_count": null,
   "metadata": {},
   "outputs": [],
   "source": []
  }
 ],
 "metadata": {
  "kaggle": {
   "accelerator": "none",
   "dataSources": [],
   "dockerImageVersionId": 30664,
   "isGpuEnabled": false,
   "isInternetEnabled": true,
   "language": "python",
   "sourceType": "notebook"
  },
  "kernelspec": {
   "display_name": "Python 3 (ipykernel)",
   "language": "python",
   "name": "python3"
  },
  "language_info": {
   "codemirror_mode": {
    "name": "ipython",
    "version": 3
   },
   "file_extension": ".py",
   "mimetype": "text/x-python",
   "name": "python",
   "nbconvert_exporter": "python",
   "pygments_lexer": "ipython3",
   "version": "3.9.13"
  }
 },
 "nbformat": 4,
 "nbformat_minor": 4
}
