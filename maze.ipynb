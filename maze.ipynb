{
 "cells": [
  {
   "cell_type": "code",
   "execution_count": 12,
   "id": "6c32ceb6",
   "metadata": {},
   "outputs": [],
   "source": [
    "import pandas as pd\n",
    "import numpy as np\n",
    "import random as rd\n",
    "from tqdm import tqdm\n",
    "\n",
    "class Enviroment:\n",
    "    def __init__(self):\n",
    "        self.env = np.array([[0,0,0,0],\n",
    "                            [0,-1,0,-1],\n",
    "                            [0,0,0,-1],\n",
    "                            [-1,0,0,2]])\n",
    "        self.end = False\n",
    "        self.shape = self.env.shape\n",
    "        self.current_state = (0,0)\n",
    "        self.reward = 0\n",
    "\n",
    "    def terminate_state(self):\n",
    "        row,col = self.current_state\n",
    "        if self.env[row][col] == 2:\n",
    "            self.end = True\n",
    "            self.reward = 1\n",
    "\n",
    "        elif self.env[row][col] == -1:\n",
    "            self.end = True\n",
    "            self.reward = -1\n",
    "\n",
    "        else:\n",
    "            self.end = False\n",
    "            self.reward = 0\n",
    "            \n",
    "    def step(self,action):\n",
    "        row,col = self.current_state\n",
    "        if action == 2:\n",
    "            if col+1 < self.shape[1]:\n",
    "                self.current_state = (row,col+1)\n",
    "        if action == 0:\n",
    "            if col-1 >= 0:\n",
    "                self.current_state = (row,col-1)\n",
    "        if action == 1:\n",
    "            if row-1 >= 0:\n",
    "                self.current_state = (row-1,col)\n",
    "        if action == 3:\n",
    "            if row+1 < self.shape[0]:\n",
    "                self.current_state = (row+1,col)\n",
    "\n",
    "        self.terminate_state()\n",
    "        return self.current_state , self.end , self.reward\n",
    "    \n",
    "    def reset(self):\n",
    "        self.env = np.array([[0,0,0,0],\n",
    "                    [0,-1,0,-1],\n",
    "                    [0,0,0,-1],\n",
    "                    [-1,0,0,2]])\n",
    "        self.end = False\n",
    "        self.shape = self.env.shape\n",
    "        self.current_state = (0,0)\n",
    "        self.reward = 0\n",
    "\n",
    "\n",
    "    def render(self):\n",
    "        row,col = self.env.shape\n",
    "        self.update_env = self.env.copy()\n",
    "        env_rend = ''\n",
    "        for i in range(row):\n",
    "            for j in range(col):\n",
    "                state = self.env[i][j]\n",
    "                if self.current_state == (i,j):\n",
    "                    self.update_env[i][j] = 1\n",
    "                    env_rend += 'S'\n",
    "                elif state == 0:\n",
    "                    env_rend += 'F'\n",
    "                elif state == -1:\n",
    "                    env_rend += 'H'\n",
    "                else:\n",
    "                    env_rend += 'G'\n",
    "            env_rend += '\\n'\n",
    "        print(env_rend)"
   ]
  },
  {
   "cell_type": "code",
   "execution_count": 13,
   "id": "474fea05",
   "metadata": {},
   "outputs": [
    {
     "name": "stdout",
     "output_type": "stream",
     "text": [
      "FSFF\n",
      "FHFH\n",
      "FFFH\n",
      "HFFG\n",
      "\n"
     ]
    }
   ],
   "source": [
    "env = Enviroment()\n",
    "env.step(2)\n",
    "env.render()"
   ]
  },
  {
   "cell_type": "code",
   "execution_count": 14,
   "id": "83b2fd32",
   "metadata": {},
   "outputs": [
    {
     "name": "stdout",
     "output_type": "stream",
     "text": [
      "FFSF\n",
      "FHFH\n",
      "FFFH\n",
      "HFFG\n",
      "\n"
     ]
    }
   ],
   "source": [
    "env.step(2)\n",
    "env.render()"
   ]
  },
  {
   "cell_type": "code",
   "execution_count": 15,
   "id": "ab6c574e",
   "metadata": {},
   "outputs": [],
   "source": [
    "env.reset()"
   ]
  },
  {
   "cell_type": "code",
   "execution_count": 18,
   "id": "85bf56a0",
   "metadata": {},
   "outputs": [
    {
     "name": "stdout",
     "output_type": "stream",
     "text": [
      "{0: (0, 0), 1: (0, 1), 2: (0, 2), 3: (0, 3), 4: (1, 0), 5: (1, 1), 6: (1, 2), 7: (1, 3), 8: (2, 0), 9: (2, 1), 10: (2, 2), 11: (2, 3), 12: (3, 0), 13: (3, 1), 14: (3, 2), 15: (3, 3)}\n"
     ]
    }
   ],
   "source": [
    "def generate_numcod(rows, cols):\n",
    "    numcod = {}\n",
    "    num = 0\n",
    "    for i in range(rows):\n",
    "        for j in range(cols):\n",
    "            numcod[num] = (i, j)\n",
    "            num += 1\n",
    "    return numcod\n",
    "\n",
    "# Generate the numcod dictionary\n",
    "numcod = generate_numcod(4, 4)\n",
    "print(numcod)"
   ]
  },
  {
   "cell_type": "code",
   "execution_count": 19,
   "id": "d74a095a",
   "metadata": {},
   "outputs": [],
   "source": [
    "def findPossibleActions(matrix):\n",
    "    m = len(matrix)\n",
    "    n = len(matrix[0])\n",
    "    action_map = {}\n",
    "    for i in range(m):\n",
    "        for j in range(n):\n",
    "            if matrix[i][j] in [-1,2]:\n",
    "                continue\n",
    "            directions = []\n",
    "            if j-1 > -1 and matrix[i][j-1] != -1:\n",
    "                directions.append(0)\n",
    "            if j+1 < n and matrix[i][j+1] != -1:\n",
    "                directions.append(2)\n",
    "            if i-1 > -1 and matrix[i-1][j] != -1:\n",
    "                directions.append(1)\n",
    "            if i+1 < m and matrix[i+1][j] != -1:\n",
    "                directions.append(3)\n",
    "            action_map[i*4+j] = directions\n",
    "    return action_map"
   ]
  },
  {
   "cell_type": "code",
   "execution_count": 20,
   "id": "02a3d60f",
   "metadata": {},
   "outputs": [],
   "source": [
    "# Define the grid environment\n",
    "menv = np.array([[0, 0, 0, 0],\n",
    "                [0, -1, 0, -1],\n",
    "                [0, 0, 0, -1],\n",
    "                [-1, 0, 0, 2]])\n",
    "\n",
    "# Define the action map\n",
    "action_map = {0: 'left',\n",
    "              1: 'down',\n",
    "              2: 'right',\n",
    "              3: 'up'}\n",
    "posact = findPossibleActions(menv)"
   ]
  },
  {
   "cell_type": "code",
   "execution_count": 46,
   "id": "d9edea4e",
   "metadata": {},
   "outputs": [
    {
     "data": {
      "text/plain": [
       "{0: [2, 3],\n",
       " 1: [0, 2],\n",
       " 2: [0, 2, 3],\n",
       " 3: [0],\n",
       " 4: [1, 3],\n",
       " 6: [1, 3],\n",
       " 8: [2, 1],\n",
       " 9: [0, 2, 3],\n",
       " 10: [0, 1, 3],\n",
       " 13: [2, 1],\n",
       " 14: [0, 2, 1]}"
      ]
     },
     "execution_count": 46,
     "metadata": {},
     "output_type": "execute_result"
    }
   ],
   "source": [
    "posact"
   ]
  },
  {
   "cell_type": "code",
   "execution_count": 49,
   "id": "fcad1676",
   "metadata": {},
   "outputs": [],
   "source": [
    "def setRMatrix(rmatrix,loss,win):\n",
    "    reward = 10\n",
    "    regret = -10\n",
    "    for l in loss:\n",
    "        rmatrix[l[0]][l[1]] = regret\n",
    "    for w in win:\n",
    "        rmatrix[w[0]][w[1]] = reward\n",
    "    return rmatrix\n",
    "        "
   ]
  },
  {
   "cell_type": "code",
   "execution_count": 90,
   "id": "8fe4f1e2",
   "metadata": {},
   "outputs": [],
   "source": [
    "rmatrix = np.zeros((16,4))\n",
    "qmatrix = np.zeros((16,4))\n",
    "# L D R U\n",
    "# 0 1 2 3\n",
    "loss = [(1,3),(3,3),(4,2),(6,0),(6,2),(8,3),(9,1),(10,2),(13,0)]\n",
    "win = [(14,2)]\n",
    "\n",
    "rmatrix = setRMatrix(rmatrix,loss,win)"
   ]
  },
  {
   "cell_type": "code",
   "execution_count": 91,
   "id": "f7f5750a",
   "metadata": {},
   "outputs": [
    {
     "name": "stderr",
     "output_type": "stream",
     "text": [
      "100%|████████████████████████████████████████████████████████████████████████████| 1000/1000 [00:00<00:00, 1856.81it/s]\n"
     ]
    }
   ],
   "source": [
    "def max_indices_random(lst):\n",
    "    max_val = max(lst)\n",
    "    max_indices = [i for i, val in enumerate(lst) if val == max_val]\n",
    "    return np.random.choice(max_indices)\n",
    "\n",
    "\n",
    "y = 0.9\n",
    "done = False\n",
    "count = 0\n",
    "for i in tqdm(range(1000)):\n",
    "    state1 = 0\n",
    "    done = False\n",
    "    maze = Enviroment()\n",
    "    while done != True:\n",
    "        ran = rd.random()\n",
    "        action = rd.choice(posact[state1])\n",
    "        obs,done,reward = maze.step(action)\n",
    "        state2 = (obs[0]*4)+obs[1]\n",
    "        qmatrix[state1][action] = rmatrix[state1][action] + y * max([qmatrix[state2][a] for a in list(range(4))])  \n",
    "        state1 = state2        "
   ]
  },
  {
   "cell_type": "code",
   "execution_count": 92,
   "id": "4b7f2e75",
   "metadata": {},
   "outputs": [
    {
     "data": {
      "text/plain": [
       "array([[  0.,   0.,   0.,   0.],\n",
       "       [  0.,   0.,   0., -10.],\n",
       "       [  0.,   0.,   0.,   0.],\n",
       "       [  0.,   0.,   0., -10.],\n",
       "       [  0.,   0., -10.,   0.],\n",
       "       [  0.,   0.,   0.,   0.],\n",
       "       [-10.,   0., -10.,   0.],\n",
       "       [  0.,   0.,   0.,   0.],\n",
       "       [  0.,   0.,   0., -10.],\n",
       "       [  0., -10.,   0.,   0.],\n",
       "       [  0.,   0., -10.,   0.],\n",
       "       [  0.,   0.,   0.,   0.],\n",
       "       [  0.,   0.,   0.,   0.],\n",
       "       [-10.,   0.,   0.,   0.],\n",
       "       [  0.,   0.,  10.,   0.],\n",
       "       [  0.,   0.,   0.,   0.]])"
      ]
     },
     "execution_count": 92,
     "metadata": {},
     "output_type": "execute_result"
    }
   ],
   "source": [
    "rmatrix"
   ]
  },
  {
   "cell_type": "code",
   "execution_count": 93,
   "id": "2450a978",
   "metadata": {},
   "outputs": [
    {
     "data": {
      "text/plain": [
       "array([[ 0.     ,  0.     ,  5.9049 ,  5.9049 ],\n",
       "       [ 5.31441,  0.     ,  6.561  ,  0.     ],\n",
       "       [ 5.9049 ,  0.     ,  5.9049 ,  7.29   ],\n",
       "       [ 6.561  ,  0.     ,  0.     ,  0.     ],\n",
       "       [ 0.     ,  5.31441,  0.     ,  6.561  ],\n",
       "       [ 0.     ,  0.     ,  0.     ,  0.     ],\n",
       "       [ 0.     ,  6.561  ,  0.     ,  8.1    ],\n",
       "       [ 0.     ,  0.     ,  0.     ,  0.     ],\n",
       "       [ 0.     ,  5.9049 ,  7.29   ,  0.     ],\n",
       "       [ 6.561  ,  0.     ,  8.1    ,  8.1    ],\n",
       "       [ 7.29   ,  7.29   ,  0.     ,  9.     ],\n",
       "       [ 0.     ,  0.     ,  0.     ,  0.     ],\n",
       "       [ 0.     ,  0.     ,  0.     ,  0.     ],\n",
       "       [ 0.     ,  7.29   ,  9.     ,  0.     ],\n",
       "       [ 8.1    ,  8.1    , 10.     ,  0.     ],\n",
       "       [ 0.     ,  0.     ,  0.     ,  0.     ]])"
      ]
     },
     "execution_count": 93,
     "metadata": {},
     "output_type": "execute_result"
    }
   ],
   "source": [
    "qmatrix"
   ]
  },
  {
   "cell_type": "code",
   "execution_count": 94,
   "id": "c8f10161",
   "metadata": {},
   "outputs": [
    {
     "name": "stdout",
     "output_type": "stream",
     "text": [
      "SFFF\n",
      "FHFH\n",
      "FFFH\n",
      "HFFG\n",
      "\n",
      "FFFF\n",
      "SHFH\n",
      "FFFH\n",
      "HFFG\n",
      "\n",
      "FFFF\n",
      "FHFH\n",
      "SFFH\n",
      "HFFG\n",
      "\n",
      "FFFF\n",
      "FHFH\n",
      "FSFH\n",
      "HFFG\n",
      "\n",
      "FFFF\n",
      "FHFH\n",
      "FFSH\n",
      "HFFG\n",
      "\n",
      "FFFF\n",
      "FHFH\n",
      "FFFH\n",
      "HFSG\n",
      "\n"
     ]
    }
   ],
   "source": [
    "y = 0.9\n",
    "done = False\n",
    "count = 0\n",
    "state1 = 0\n",
    "env = Enviroment()\n",
    "while done != True:\n",
    "    env.render()\n",
    "    action = max_indices_random(qmatrix[state1])\n",
    "    obs,done,reward = env.step(action)\n",
    "    state2 = (obs[0]*4)+obs[1]\n",
    "    qmatrix[state1][action] = rmatrix[state1][action] + y * max([qmatrix[state2][a] for a in list(range(4))])  \n",
    "    state1 = state2        "
   ]
  },
  {
   "cell_type": "code",
   "execution_count": 95,
   "id": "9d6f8e5d",
   "metadata": {},
   "outputs": [
    {
     "data": {
      "text/plain": [
       "array([[ 0,  0,  0,  0],\n",
       "       [ 0, -1,  0, -1],\n",
       "       [ 0,  0,  0, -1],\n",
       "       [-1,  0,  0,  2]])"
      ]
     },
     "execution_count": 95,
     "metadata": {},
     "output_type": "execute_result"
    }
   ],
   "source": [
    "env.env"
   ]
  },
  {
   "cell_type": "code",
   "execution_count": null,
   "id": "05cf5baf",
   "metadata": {},
   "outputs": [],
   "source": []
  }
 ],
 "metadata": {
  "kernelspec": {
   "display_name": "Python 3 (ipykernel)",
   "language": "python",
   "name": "python3"
  },
  "language_info": {
   "codemirror_mode": {
    "name": "ipython",
    "version": 3
   },
   "file_extension": ".py",
   "mimetype": "text/x-python",
   "name": "python",
   "nbconvert_exporter": "python",
   "pygments_lexer": "ipython3",
   "version": "3.11.5"
  }
 },
 "nbformat": 4,
 "nbformat_minor": 5
}
